{
 "cells": [
  {
   "cell_type": "code",
   "execution_count": 1,
   "metadata": {},
   "outputs": [],
   "source": [
    "R = (\n",
    "    set(['A','B','D']),\n",
    "    set(['B','C','E']),\n",
    "    set(['D','E'])\n",
    ")\n",
    "\n",
    "F = (\n",
    "    (set(['A']),set(['B','D'])),\n",
    "    (set(['D']),set(['A'])),\n",
    "    (set(['C']),set(['B','E'])),\n",
    "    (set(['E']),set(['D'])),\n",
    "    (set(['C']),set(['A']))\n",
    ")"
   ]
  },
  {
   "cell_type": "code",
   "execution_count": 2,
   "metadata": {},
   "outputs": [],
   "source": [
    "def closure(X, F):\n",
    "    res = X\n",
    "    mark = [0] * len(F)\n",
    "    while 1:\n",
    "        pre_visted = sum(mark)\n",
    "        for i in range(len(F)):\n",
    "            if mark[i] == 0: # not visited\n",
    "                if F[i][0].issubset(res):\n",
    "                    res = res.union(F[i][1])\n",
    "                    mark[i] = 1\n",
    "        after_visted = sum(mark)\n",
    "        if pre_visted == after_visted:\n",
    "            break\n",
    "    return res"
   ]
  },
  {
   "cell_type": "code",
   "execution_count": 3,
   "metadata": {},
   "outputs": [
    {
     "data": {
      "text/plain": [
       "[({'A'}, {'B', 'D'}),\n",
       " ({'D'}, {'A', 'B'}),\n",
       " ({'C'}, {'B', 'E'}),\n",
       " ({'E'}, {'B'}),\n",
       " ({'E'}, {'D'}),\n",
       " ({'C'}, {'B', 'E'})]"
      ]
     },
     "execution_count": 3,
     "metadata": {},
     "output_type": "execute_result"
    }
   ],
   "source": [
    "G = []\n",
    "closures = tuple(\n",
    "    (k, closure(k, F)) \n",
    "    for k, _ in F\n",
    ") # (X, X+)\n",
    "for idx, (X, Y) in enumerate(F):\n",
    "    for rho in R:\n",
    "        if X.issubset(rho):\n",
    "            temp = closures[idx][1] & rho - X\n",
    "            if len(temp) > 0:\n",
    "                G.append((X, temp))\n",
    "G"
   ]
  },
  {
   "cell_type": "markdown",
   "metadata": {},
   "source": [
    "The FDs in F are contained in G except for $C\\rightarrow A$, and MEMBER $(G, C\\rightarrow A)$ is true. Therefore, $\\rho$ keeps dependency preservation."
   ]
  }
 ],
 "metadata": {
  "kernelspec": {
   "display_name": "whg",
   "language": "python",
   "name": "python3"
  },
  "language_info": {
   "codemirror_mode": {
    "name": "ipython",
    "version": 3
   },
   "file_extension": ".py",
   "mimetype": "text/x-python",
   "name": "python",
   "nbconvert_exporter": "python",
   "pygments_lexer": "ipython3",
   "version": "3.11.3"
  }
 },
 "nbformat": 4,
 "nbformat_minor": 2
}
