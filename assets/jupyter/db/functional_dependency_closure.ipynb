{
 "cells": [
  {
   "cell_type": "code",
   "execution_count": 1,
   "metadata": {},
   "outputs": [],
   "source": [
    "F = (\n",
    "    (set(['A']), set(['D'])),\n",
    "    (set(['A','B']), set(['E'])),\n",
    "    (set(['B','I']), set(['E'])),\n",
    "    (set(['C','D']), set(['I'])),\n",
    "    (set(['E']), set(['C'])),\n",
    ")"
   ]
  },
  {
   "cell_type": "markdown",
   "metadata": {},
   "source": [
    "$$AE^+$$"
   ]
  },
  {
   "cell_type": "code",
   "execution_count": 2,
   "metadata": {},
   "outputs": [
    {
     "name": "stdout",
     "output_type": "stream",
     "text": [
      "{'A', 'E', 'D'}\n",
      "{'C', 'A', 'E', 'D'}\n",
      "{'I', 'C', 'A', 'E', 'D'}\n"
     ]
    }
   ],
   "source": [
    "res = set(['A','E'])\n",
    "mark = [0] * len(F)\n",
    "while 1:\n",
    "    pre_visted = sum(mark)\n",
    "    for i in range(len(F)):\n",
    "        if mark[i] == 0: # not visited\n",
    "            if F[i][0].issubset(res):\n",
    "                res = res.union(F[i][1])\n",
    "                print(res)\n",
    "                mark[i] = 1\n",
    "    after_visted = sum(mark)\n",
    "    if pre_visted == after_visted:\n",
    "        break"
   ]
  },
  {
   "cell_type": "code",
   "execution_count": 3,
   "metadata": {},
   "outputs": [],
   "source": [
    "F = (\n",
    "    (set(['A','B']), set(['C'])),\n",
    "    (set(['B']), set(['D'])),\n",
    "    (set(['C','D']), set(['E'])),\n",
    "    (set(['C','E']), set(['G','H'])),\n",
    "    (set(['G']), set(['A'])),\n",
    ")"
   ]
  },
  {
   "cell_type": "markdown",
   "metadata": {},
   "source": [
    "$$F\\mid= AB\\rightarrow G$$"
   ]
  },
  {
   "cell_type": "code",
   "execution_count": 4,
   "metadata": {},
   "outputs": [
    {
     "name": "stdout",
     "output_type": "stream",
     "text": [
      "{'B', 'C', 'A'}\n",
      "{'B', 'C', 'A', 'D'}\n",
      "{'B', 'C', 'A', 'E', 'D'}\n",
      "{'H', 'G', 'B', 'C', 'A', 'E', 'D'}\n",
      "{'H', 'G', 'B', 'C', 'A', 'E', 'D'}\n"
     ]
    },
    {
     "data": {
      "text/plain": [
       "True"
      ]
     },
     "execution_count": 4,
     "metadata": {},
     "output_type": "execute_result"
    }
   ],
   "source": [
    "res = set(['A','B'])\n",
    "mark = [0] * len(F)\n",
    "while 1:\n",
    "    pre_visted = sum(mark)\n",
    "    for i in range(len(F)):\n",
    "        if mark[i] == 0: # not visited\n",
    "            if F[i][0].issubset(res):\n",
    "                res = res.union(F[i][1])\n",
    "                print(res)\n",
    "                mark[i] = 1\n",
    "    after_visted = sum(mark)\n",
    "    if pre_visted == after_visted:\n",
    "        break\n",
    "'G' in res"
   ]
  }
 ],
 "metadata": {
  "kernelspec": {
   "display_name": "whg",
   "language": "python",
   "name": "python3"
  },
  "language_info": {
   "codemirror_mode": {
    "name": "ipython",
    "version": 3
   },
   "file_extension": ".py",
   "mimetype": "text/x-python",
   "name": "python",
   "nbconvert_exporter": "python",
   "pygments_lexer": "ipython3",
   "version": "3.11.3"
  }
 },
 "nbformat": 4,
 "nbformat_minor": 2
}
